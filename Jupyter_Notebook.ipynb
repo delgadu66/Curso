{
  "metadata": {
    "kernelspec": {
      "name": "python",
      "display_name": "Pyolite",
      "language": "python"
    },
    "language_info": {
      "codemirror_mode": {
        "name": "python",
        "version": 3
      },
      "file_extension": ".py",
      "mimetype": "text/x-python",
      "name": "python",
      "nbconvert_exporter": "python",
      "pygments_lexer": "ipython3",
      "version": "3.8"
    }
  },
  "nbformat_minor": 4,
  "nbformat": 4,
  "cells": [
    {
      "cell_type": "markdown",
      "source": "<center>\n    <img src=\"https://s3-api.us-geo.objectstorage.softlayer.net/cf-courses-data/CognitiveClass/Logos/organization_logo/organization_logo.png\" width=\"300\" alt=\"cognitiveclass.ai logo\"  />\n</center>\n",
      "metadata": {}
    },
    {
      "cell_type": "markdown",
      "source": "# My Jupyter Notebook on IBM Watson Studio\n",
      "metadata": {}
    },
    {
      "cell_type": "markdown",
      "source": "__Adrian Anton Guerra__\n\nEngineer\n",
      "metadata": {}
    },
    {
      "cell_type": "markdown",
      "source": "_I am interested in data science because I am fascinated about how the data can give leads and can help to solve problems in so many different fields_",
      "metadata": {}
    },
    {
      "cell_type": "markdown",
      "source": "### The code in cell 5 simply sum two variables \"a\" and \"b\", both with values 1.",
      "metadata": {}
    },
    {
      "cell_type": "code",
      "source": "a=1\nb=1\nprint(a+b)",
      "metadata": {
        "trusted": true
      },
      "execution_count": 2,
      "outputs": [
        {
          "name": "stdout",
          "text": "2\n",
          "output_type": "stream"
        }
      ]
    },
    {
      "cell_type": "markdown",
      "source": "Bullet list:\n* Element1\n* Element2\n\n<a href=\"https://www.coursera.org/\">link to coursera website</a>\n\nHorizontal line \n***",
      "metadata": {}
    }
  ]
}